{
 "cells": [
  {
   "cell_type": "code",
   "execution_count": 1,
   "metadata": {},
   "outputs": [],
   "source": [
    "from matplotlib import pyplot as plt\n",
    "from ipywidgets import interact, interactive, fixed, interact_manual, Text\n",
    "\n"
   ]
  },
  {
   "cell_type": "code",
   "execution_count": 2,
   "metadata": {},
   "outputs": [],
   "source": [
    "def option_payout(stockname,strike_price,contracts,option_price,option_type,position):\n",
    "    size = 100 # One contract has 100 options\n",
    "    qty = contracts * size # Total shares of underlying security \n",
    "    startpt = int(strike_price/2)\n",
    "    endpt = int( strike_price*3/2)\n",
    "    underlying_price = list(range(startpt,endpt)) # X axis\n",
    "    cashflow = []\n",
    "    \n",
    "    if position == 'Long':\n",
    "        if option_type == 'Call':\n",
    "            for x in underlying_price:\n",
    "                cashflow.append(((max(x - strike_price,0))-option_price)*qty)\n",
    "        else: # For a put option\n",
    "            for x in underlying_price:\n",
    "                cashflow.append(((max(strike_price - x,0))-option_price)*qty)\n",
    "    else: # For a short position\n",
    "        if option_type == 'Call':\n",
    "            for x in underlying_price:\n",
    "                cashflow.append(-1 * (((max(x - strike_price,0))-option_price)*qty))\n",
    "        else: # For a put option\n",
    "            for x in underlying_price:\n",
    "                cashflow.append(-1 * (((max(strike_price - x,0))-option_price)*qty))\n",
    "    breakeven = strike_price+option_price\n",
    "    \n",
    "    print('Stock name is %s' %stockname)\n",
    "    plt.plot(underlying_price,cashflow)\n",
    "    plt.title('Option Payout Diagram')\n",
    "    plt.xlabel('Current price')\n",
    "    plt.ylabel('Profit/Loss')\n",
    "    plt.grid(True, linestyle='-.')\n",
    "    plt.show()\n",
    "    \n",
    "    print('Breakeven point is $%4.2f' %breakeven)\n"
   ]
  },
  {
   "cell_type": "code",
   "execution_count": null,
   "metadata": {},
   "outputs": [],
   "source": []
  },
  {
   "cell_type": "code",
   "execution_count": 3,
   "metadata": {},
   "outputs": [
    {
     "data": {
      "application/vnd.jupyter.widget-view+json": {
       "model_id": "3c0adfadc8a24104a2b26780ab60e3f1",
       "version_major": 2,
       "version_minor": 0
      },
      "text/plain": [
       "interactive(children=(Text(value='', description='Stock Ticker Symbol:', placeholder='Type something'), IntSli…"
      ]
     },
     "metadata": {},
     "output_type": "display_data"
    }
   ],
   "source": [
    "stockname=Text(\n",
    "   value='',\n",
    "    placeholder='Type something',\n",
    "    description='Stock Ticker Symbol:',\n",
    "    disabled=False\n",
    ")\n",
    "\n",
    "interact(option_payout, stockname=Text(\n",
    "   value='',\n",
    "    placeholder='Type something',\n",
    "    description='Stock Ticker Symbol:',\n",
    "    disabled=False\n",
    "),\n",
    "         strike_price=(1,40,1), contracts=(1,10,1), option_price=(1,10,0.1), option_type = {'Call','Put'},\n",
    "         position={'Long','Short'});"
   ]
  },
  {
   "cell_type": "code",
   "execution_count": null,
   "metadata": {},
   "outputs": [],
   "source": []
  },
  {
   "cell_type": "code",
   "execution_count": null,
   "metadata": {},
   "outputs": [],
   "source": []
  }
 ],
 "metadata": {
  "kernelspec": {
   "display_name": "Python 3",
   "language": "python",
   "name": "python3"
  },
  "language_info": {
   "codemirror_mode": {
    "name": "ipython",
    "version": 3
   },
   "file_extension": ".py",
   "mimetype": "text/x-python",
   "name": "python",
   "nbconvert_exporter": "python",
   "pygments_lexer": "ipython3",
   "version": "3.6.8"
  }
 },
 "nbformat": 4,
 "nbformat_minor": 2
}
