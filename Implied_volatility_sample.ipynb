{
 "cells": [
  {
   "cell_type": "code",
   "execution_count": 3,
   "metadata": {},
   "outputs": [],
   "source": [
    "import pandas as pd\n",
    "import numpy as np \n",
    "import matplotlib.pyplot as plt # Plotting tools\n",
    "from scipy.stats import norm # For Black Scholes Model\n",
    "from ipywidgets import interact, interactive, fixed, interact_manual\n",
    "#import ipywidgets as widgets\n",
    "\n",
    "import warnings\n",
    "warnings.simplefilter('ignore')\n",
    "\n",
    "def d1_calc(S, K, r, vol, T, t):\n",
    "    # Calculates d1 in the BSM equation\n",
    "    return (np.log(S/K) + (r + 0.5 * vol**2)*(T-t))/(vol*np.sqrt(T-t))\n",
    "\n",
    "def BS_call(S, K, r, vol, T, t):\n",
    "    d1 = d1_calc(S, K, r, vol, T, t)\n",
    "    d2 = d1 - vol * np.sqrt(T)\n",
    "    return S * norm.cdf(d1) - K * np.exp(-r*T)*norm.cdf(d2)\n",
    "\n",
    "def BS_put(S, K, r, vol, T, t):\n",
    "    return BS_call(S, K, r, vol, T, t) - S + np.exp(-r*(T-t))*K"
   ]
  },
  {
   "cell_type": "code",
   "execution_count": 16,
   "metadata": {},
   "outputs": [],
   "source": [
    "S = 133.95\n",
    "K = 134\n",
    "r = 0.0178\n",
    "T = 1/52\n",
    "t = 0\n",
    "\n",
    "c_actual = 1.87\n",
    "\n",
    "vol = list(x/100 for x in range(10001))"
   ]
  },
  {
   "cell_type": "code",
   "execution_count": 20,
   "metadata": {},
   "outputs": [
    {
     "name": "stdout",
     "output_type": "stream",
     "text": [
      "Implied volatility is 0.2500\n"
     ]
    }
   ],
   "source": [
    "max_error = 100000\n",
    "implied_vol = 0\n",
    "\n",
    "for v in vol:\n",
    "    c = BS_call(S,K,r,v,T,t)\n",
    "    err = abs(c - c_actual)\n",
    "    if err < max_error:\n",
    "        max_error = err\n",
    "        implied_vol = v\n",
    "print('Implied volatility is %2.4f' %implied_vol)\n",
    "        \n",
    "\n"
   ]
  },
  {
   "cell_type": "code",
   "execution_count": null,
   "metadata": {},
   "outputs": [],
   "source": []
  },
  {
   "cell_type": "code",
   "execution_count": null,
   "metadata": {},
   "outputs": [],
   "source": []
  }
 ],
 "metadata": {
  "kernelspec": {
   "display_name": "Python 3",
   "language": "python",
   "name": "python3"
  },
  "language_info": {
   "codemirror_mode": {
    "name": "ipython",
    "version": 3
   },
   "file_extension": ".py",
   "mimetype": "text/x-python",
   "name": "python",
   "nbconvert_exporter": "python",
   "pygments_lexer": "ipython3",
   "version": "3.7.1"
  }
 },
 "nbformat": 4,
 "nbformat_minor": 2
}
