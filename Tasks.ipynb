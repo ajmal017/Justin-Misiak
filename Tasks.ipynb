{
 "cells": [
  {
   "cell_type": "markdown",
   "metadata": {},
   "source": [
    "Jupyter Notebook Project\n",
    "\n",
    "Link to AWS jupyter notebook https://jupyter.sbe.mtu.edu\n",
    "\n",
    "First User Story Inputs: Put/Call, Strike Price, American/European, Volatility, Expiration Date, Risk-Free Rate Option Payout Diagram and Derivatives: Delta, Gamma, Vega, Theta, and Rho\n",
    "\n",
    "Second User Story: Given the trading price, what is the implied volatility? Rubenstein Model\n",
    "\n",
    "Third User Story: Current stock prices into the Python program. What API we can use for free to get prices into a Python program? Yahoo, Google, Barchart, Marketwatch"
   ]
  }
 ],
 "metadata": {
  "kernelspec": {
   "display_name": "Python 3",
   "language": "python",
   "name": "python3"
  },
  "language_info": {
   "codemirror_mode": {
    "name": "ipython",
    "version": 3
   },
   "file_extension": ".py",
   "mimetype": "text/x-python",
   "name": "python",
   "nbconvert_exporter": "python",
   "pygments_lexer": "ipython3",
   "version": "3.7.1"
  }
 },
 "nbformat": 4,
 "nbformat_minor": 2
}
