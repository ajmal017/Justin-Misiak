{
 "cells": [
  {
   "cell_type": "markdown",
   "metadata": {},
   "source": [
    "# Git Commands\n",
    "\n",
    "To access the original repository you need to create an account GitHub\n",
    "\n",
    "Request access to Ninad's FIN4200 Github Repository\n",
    "\n",
    "(Ninad Mohale FIN4200)[https://github.com/ninadmohale/FIN4200]\n",
    "\n",
    "On your local computer or on your jupyter.sbe.mtu.edu server you can then clone the FIN4200 repository\n",
    "\n"
   ]
  }
 ],
 "metadata": {
  "kernelspec": {
   "display_name": "Python 3",
   "language": "python",
   "name": "python3"
  },
  "language_info": {
   "codemirror_mode": {
    "name": "ipython",
    "version": 3
   },
   "file_extension": ".py",
   "mimetype": "text/x-python",
   "name": "python",
   "nbconvert_exporter": "python",
   "pygments_lexer": "ipython3",
   "version": "3.6.8"
  }
 },
 "nbformat": 4,
 "nbformat_minor": 2
}
