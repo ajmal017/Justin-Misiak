{
 "cells": [
  {
   "cell_type": "markdown",
   "metadata": {},
   "source": [
    "# Black Scholes Model\n"
   ]
  },
  {
   "cell_type": "markdown",
   "metadata": {},
   "source": [
    "We start by importing modules that are needed to run this file"
   ]
  },
  {
   "cell_type": "code",
   "execution_count": 1,
   "metadata": {},
   "outputs": [],
   "source": [
    "import pandas as pd\n",
    "import numpy as np \n",
    "import matplotlib.pyplot as plt # Plotting tools\n",
    "from scipy.stats import norm # For Black Scholes Model\n",
    "from ipywidgets import interact, interactive, fixed, interact_manual\n",
    "#import ipywidgets as widgets\n",
    "\n",
    "import warnings\n",
    "warnings.simplefilter('ignore')"
   ]
  },
  {
   "cell_type": "markdown",
   "metadata": {},
   "source": [
    "We then define functions to evaluate option prices\n",
    "\n",
    "Terminology\n",
    "S: underlying stock price\n",
    "K: Option strike price\n",
    "r: risk free rate\n",
    "D: dividend value\n",
    "vol: Volatility\n",
    "T: time to expiry (assumed that we're measuring from t=0 to T)"
   ]
  },
  {
   "cell_type": "code",
   "execution_count": 2,
   "metadata": {},
   "outputs": [],
   "source": [
    "## Functions to calculate BSM\n",
    "def d1_calc(S, K, r, vol, T, t):\n",
    "    # Calculates d1 in the BSM equation\n",
    "    return (np.log(S/K) + (r + 0.5 * vol**2)*(T-t))/(vol*np.sqrt(T-t))\n",
    "\n",
    "def BS_call(S, K, r, vol, T, t):\n",
    "    d1 = d1_calc(S, K, r, vol, T, t)\n",
    "    d2 = d1 - vol * np.sqrt(T)\n",
    "    return S * norm.cdf(d1) - K * np.exp(-r*T)*norm.cdf(d2)\n",
    "\n",
    "def BS_put(S, K, r, vol, T, t):\n",
    "    return BS_call(S, K, r, vol, T, t) - S + np.exp(-r*(T-t))*K\n",
    "\n",
    "def option_price(K,r,vol,T,t,option):\n",
    "    S = [t/5 for t in range(0,200)]\n",
    "    if option == 'call':\n",
    "        cval = [BS_call(x, K, r, vol, T, t) for x in S]\n",
    "        plt.plot(S, cval, 'r', label = \"Call\")\n",
    "        plt.legend()\n",
    "        plt.ylabel(\"Stock Price ($)\")\n",
    "        plt.xlabel(\"Option Price ($)\")\n",
    "        plt.show()\n",
    "    elif option == 'put':\n",
    "        pval = [BS_put(x, K, r, vol, T, t) for x in S]\n",
    "        plt.plot(S, pval, 'b', label  = \"Put\")\n",
    "        plt.legend()\n",
    "        plt.ylabel(\"Stock Price ($)\")\n",
    "        plt.xlabel(\"Option Price ($)\")\n",
    "        plt.show()\n",
    "    else:\n",
    "        cval = [BS_call(x, K, r, vol, T, t) for x in S]\n",
    "        pval = [BS_put(x, K, r, vol, T, t) for x in S]\n",
    "        plt.plot(S, cval, 'r', label = \"Call\")\n",
    "        plt.plot(S, pval, 'b', label  = \"Put\")\n",
    "        plt.legend()\n",
    "        plt.ylabel(\"Stock Price ($)\")\n",
    "        plt.xlabel(\"Option Price ($)\")\n",
    "        plt.show()"
   ]
  },
  {
   "cell_type": "markdown",
   "metadata": {},
   "source": [
    "We use widgets to interact with the function. Here, we can choose values of K,r,vol,T,t and the option type"
   ]
  },
  {
   "cell_type": "code",
   "execution_count": 3,
   "metadata": {},
   "outputs": [
    {
     "data": {
      "application/vnd.jupyter.widget-view+json": {
       "model_id": "5fe42697059c48f2916921942b5c2ab5",
       "version_major": 2,
       "version_minor": 0
      },
      "text/plain": [
       "interactive(children=(IntSlider(value=20, description='K', max=40, min=1), FloatSlider(value=0.5, description=…"
      ]
     },
     "metadata": {},
     "output_type": "display_data"
    }
   ],
   "source": [
    "# Stock price in this case is defined by S. It goes from 0 to about 40\n",
    "interact(option_price, K=(1,40,1), r=(0,1.0,0.1), vol=(0,0.5,0.1), T=(0,10,1), t=(0,10),\n",
    "         option={'call','put','both'});\n",
    "\n",
    "# Recommended values to start\n",
    "# K = 10\n",
    "# r = 0.10\n",
    "# vol = 0.2\n",
    "# T = 10\n",
    "# t = 0"
   ]
  },
  {
   "cell_type": "markdown",
   "metadata": {},
   "source": [
    "We define functions to evaluate Greeks"
   ]
  },
  {
   "cell_type": "code",
   "execution_count": 4,
   "metadata": {},
   "outputs": [],
   "source": [
    "## Functions to calculate Greeks\n",
    "\n",
    "#1st Order Greeks\n",
    "def delta(S, K, r, vol, T, t, otype):\n",
    "    d1 = d1_calc(S, K, r, vol, T, t)\n",
    "    d2 = d1 - vol * np.sqrt(T-t)\n",
    "    \n",
    "    if(otype == \"call\"):\n",
    "        delta = np.exp(-(T-t))*norm.cdf(d1)\n",
    "    elif(otype == \"put\"):\n",
    "        delta = -np.exp(-(T-t))*norm.cdf(-d1)\n",
    "\n",
    "    return delta\n",
    "\n",
    "# Gamma for calls/puts the same\n",
    "\n",
    "def vega(S, K, r, vol, T, t, otype):\n",
    "    d1 = d1_calc(S, K, r, vol, T, t)\n",
    "    return S * norm.pdf(d1) * np.sqrt(T-t)\n",
    "\n",
    "def rho(S, K, r, vol, T, t, otype):\n",
    "    d1 = d1_calc(S, K, r, vol, T, t)\n",
    "    d2 = d1 - vol*np.sqrt(T-t)\n",
    "    \n",
    "    if(otype == \"call\"):\n",
    "        rho = K*(T-t)*np.exp(-r*(T-t))*norm.cdf(d2)\n",
    "    elif(otype == \"put\"):\n",
    "        rho = -K*(T-t)*np.exp(-r*(T-t))*norm.cdf(-d2)\n",
    "    return rho\n",
    "\n",
    "def theta(S, K, r, vol, T, t, otype):\n",
    "    d1 = d1_calc(S, K, r, vol, T, t)\n",
    "    d2 = d1 - vol*np.sqrt(T-t)\n",
    "    \n",
    "    if(otype == \"call\"):\n",
    "        theta = -(S*norm.pdf(d1)*vol / (2*np.sqrt(T-t))) - r*K*np.exp(-r*(T-t))*norm.cdf(d2) \n",
    "    elif(otype == \"put\"):\n",
    "        theta = -(S*norm.pdf(d1)*vol / (2*np.sqrt(T-t))) + r*K*np.exp(-r*(T-t))*norm.cdf(-d2)\n",
    "\n",
    "    return theta\n",
    "\n",
    "#2nd Order Greeks\n",
    "def gamma(S, K, r, vol, T, t, otype):\n",
    "    d1 = d1_calc(S, K, r, vol, T, t)\n",
    "    gamma = (norm.pdf(d1)) / (S * vol * np.sqrt(T-t))\n",
    "    \n",
    "    return gamma\n",
    "\n",
    "def charm(S, K, r, vol, T, t, otype):\n",
    "    d1 = d1_calc(S, K, r, vol, T, t)\n",
    "    d2 = d1 - vol*np.sqrt(T-t)\n",
    "    charm = -norm.pdf(d1)*(2*r*(T-t) - d2*vol*np.sqrt(T-t))/(2*(T-t)*vol*np.sqrt(T-t))\n",
    "\n",
    "    return charm\n",
    "\n",
    "def greeks(K,r,vol,T,t, otype, greekfun):\n",
    "    S = [t/5 for t in range(0,200)]\n",
    "    if otype=='call':\n",
    "        color = 'r'\n",
    "    else:\n",
    "        color = 'b'\n",
    "    val = [greekfun(x, K, r, vol, T, t, otype)for x in S]\n",
    "    plt.plot(S, val, color, label = otype)\n",
    "    plt.legend()\n",
    "    plt.ylabel(greekfun.__name__)\n",
    "    plt.xlabel(\"Underlying Price\")\n",
    "    plt.show()\n"
   ]
  },
  {
   "cell_type": "markdown",
   "metadata": {},
   "source": [
    "Again, we use widgets to interact with the functions."
   ]
  },
  {
   "cell_type": "code",
   "execution_count": 5,
   "metadata": {},
   "outputs": [
    {
     "data": {
      "application/vnd.jupyter.widget-view+json": {
       "model_id": "bf263c62202746cc942ce37e19aab7d7",
       "version_major": 2,
       "version_minor": 0
      },
      "text/plain": [
       "interactive(children=(IntSlider(value=20, description='K', max=40, min=1), FloatSlider(value=0.5, description=…"
      ]
     },
     "metadata": {},
     "output_type": "display_data"
    }
   ],
   "source": [
    "interact(greeks, K=(1,40,1), r=(0,1.0,0.1), vol=(0,0.5,0.1), T=(0,10,1), t=(0,10),\n",
    "         otype={'call','put'},\n",
    "         greekfun={'delta':delta,'vega':vega,'rho':rho,'theta':theta,'gamma':gamma,'charm':charm});\n",
    "\n",
    "# Recommended values to start\n",
    "# K = 10\n",
    "# r = 0.10\n",
    "# vol = 0.2\n",
    "# T = 10\n",
    "# t = 0"
   ]
  },
  {
   "cell_type": "code",
   "execution_count": null,
   "metadata": {},
   "outputs": [],
   "source": []
  }
 ],
 "metadata": {
  "kernelspec": {
   "display_name": "Python 3",
   "language": "python",
   "name": "python3"
  },
  "language_info": {
   "codemirror_mode": {
    "name": "ipython",
    "version": 3
   },
   "file_extension": ".py",
   "mimetype": "text/x-python",
   "name": "python",
   "nbconvert_exporter": "python",
   "pygments_lexer": "ipython3",
   "version": "3.7.1"
  }
 },
 "nbformat": 4,
 "nbformat_minor": 2
}
